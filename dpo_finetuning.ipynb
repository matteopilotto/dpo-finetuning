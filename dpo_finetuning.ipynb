{
 "cells": [
  {
   "cell_type": "markdown",
   "id": "2f4b1549-3abd-4448-9365-890c25758d30",
   "metadata": {},
   "source": [
    "### Resources\n",
    "- [Fine-tune Llama2 with DPO](https://huggingface.co/blog/dpo-trl) | [codebase](https://github.com/huggingface/trl/tree/main/examples/research_projects/stack_llama_2/scripts)"
   ]
  },
  {
   "cell_type": "markdown",
   "id": "69b6b7d5-9d2a-4569-b015-49061dc98d8d",
   "metadata": {},
   "source": [
    "### Setup"
   ]
  },
  {
   "cell_type": "code",
   "execution_count": 49,
   "id": "cc7ea7ab-cfaf-47df-b076-aceb43cf5df1",
   "metadata": {},
   "outputs": [],
   "source": [
    "import os\n",
    "from datasets import load_dataset, Dataset\n",
    "import torch\n",
    "from transformers import BitsAndBytesConfig, AutoTokenizer, AutoModelForCausalLM, TrainingArguments\n",
    "from peft import LoraConfig, AutoPeftModelForCausalLM\n",
    "from trl import SFTTrainer, DPOTrainer\n",
    "from ml_collections import config_dict\n",
    "import huggingface_hub\n",
    "import wandb\n",
    "from tqdm.auto import tqdm\n",
    "\n",
    "from utils import LLMSampleCB\n",
    "\n",
    "os.environ[\"WANDB_PROJECT\"] = \"dpo_llama2_finetuning\"\n",
    "\n",
    "\n",
    "# huggingface_hub.login()\n",
    "# wandb.login()\n",
    "\n",
    "# huggingface-cli login\n",
    "# wandb login\n",
    "\n"
   ]
  },
  {
   "cell_type": "markdown",
   "id": "dec32cda-45da-43af-b5dc-025f185a596f",
   "metadata": {},
   "source": [
    "### Load dataset"
   ]
  },
  {
   "cell_type": "code",
   "execution_count": 2,
   "id": "d4520f3a-ac5b-44c3-a4e2-68ff948beb54",
   "metadata": {},
   "outputs": [
    {
     "data": {
      "application/vnd.jupyter.widget-view+json": {
       "model_id": "e2b79320ea5b4035a584f51a971ccd13",
       "version_major": 2,
       "version_minor": 0
      },
      "text/plain": [
       "Downloading readme:   0%|          | 0.00/737 [00:00<?, ?B/s]"
      ]
     },
     "metadata": {},
     "output_type": "display_data"
    },
    {
     "data": {
      "application/vnd.jupyter.widget-view+json": {
       "model_id": "e18f97e8970f45f795283f3a4b24c8c7",
       "version_major": 2,
       "version_minor": 0
      },
      "text/plain": [
       "Resolving data files:   0%|          | 0/72 [00:00<?, ?it/s]"
      ]
     },
     "metadata": {},
     "output_type": "display_data"
    }
   ],
   "source": [
    "dataset = load_dataset(\n",
    "    \"lvwerra/stack-exchange-paired\",\n",
    "    # split=\"train\",\n",
    "    # data_dir=\"data/rl\"\n",
    "    streaming=True\n",
    ")\n",
    "\n",
    "train_ds = dataset[\"train\"]\n",
    "test_ds = dataset[\"test\"]"
   ]
  },
  {
   "cell_type": "code",
   "execution_count": 3,
   "id": "5c102f7f-8766-4b94-9ccb-93eb0c97a5f7",
   "metadata": {
    "scrolled": true
   },
   "outputs": [
    {
     "data": {
      "text/plain": [
       "IterableDatasetDict({\n",
       "    train: IterableDataset({\n",
       "        features: ['qid', 'question', 'date', 'metadata', 'response_j', 'response_k'],\n",
       "        n_shards: 72\n",
       "    })\n",
       "    test: IterableDataset({\n",
       "        features: ['qid', 'question', 'date', 'metadata', 'response_j', 'response_k'],\n",
       "        n_shards: 12\n",
       "    })\n",
       "})"
      ]
     },
     "execution_count": 3,
     "metadata": {},
     "output_type": "execute_result"
    }
   ],
   "source": [
    "dataset"
   ]
  },
  {
   "cell_type": "markdown",
   "id": "53839fda-c7ac-4799-aa25-fdc42eef3d82",
   "metadata": {},
   "source": [
    "### Sample dataset"
   ]
  },
  {
   "cell_type": "code",
   "execution_count": 4,
   "id": "8ae6318a-6dfe-4717-8a54-5feb9b42f312",
   "metadata": {},
   "outputs": [],
   "source": [
    "sample_size = 100\n",
    "train_sample_data = []\n",
    "test_sample_data = []\n",
    "\n",
    "for i, example in enumerate(train_ds):\n",
    "    if i == sample_size:\n",
    "        break\n",
    "\n",
    "    train_sample_data.append(example)\n",
    "\n",
    "    if (i + 1) % 1000 == 0:\n",
    "        print(f\"[INFO] processing {i+1} of {sample_size}...\")\n",
    "\n",
    "for i, example in enumerate(test_ds):\n",
    "    if i == sample_size:\n",
    "        break\n",
    "\n",
    "    test_sample_data.append(example)\n",
    "\n",
    "    if (i + 1) % 1000 == 0:\n",
    "        print(f\"[INFO] processing {i+1} of {sample_size}...\")"
   ]
  },
  {
   "cell_type": "code",
   "execution_count": 5,
   "id": "bf477efc-2916-43e2-a443-087b0f3b115f",
   "metadata": {
    "scrolled": true
   },
   "outputs": [],
   "source": [
    "train_ds_sample = Dataset.from_list(train_sample_data)\n",
    "test_ds_sample = Dataset.from_list(test_sample_data)"
   ]
  },
  {
   "cell_type": "code",
   "execution_count": 6,
   "id": "c892b084-076a-4199-8867-f70740b10700",
   "metadata": {
    "scrolled": true
   },
   "outputs": [
    {
     "name": "stdout",
     "output_type": "stream",
     "text": [
      "Dataset({\n",
      "    features: ['qid', 'question', 'date', 'metadata', 'response_j', 'response_k'],\n",
      "    num_rows: 100\n",
      "})\n",
      "Dataset({\n",
      "    features: ['qid', 'question', 'date', 'metadata', 'response_j', 'response_k'],\n",
      "    num_rows: 100\n",
      "})\n"
     ]
    }
   ],
   "source": [
    "print(train_ds_sample)\n",
    "print(test_ds_sample)"
   ]
  },
  {
   "cell_type": "markdown",
   "id": "505dda31-c27c-4fae-be89-6c6a52e1a12e",
   "metadata": {},
   "source": [
    "### Preprocessing"
   ]
  },
  {
   "cell_type": "code",
   "execution_count": 7,
   "id": "99f9560d-9366-47bb-a419-d9dc7c165ba4",
   "metadata": {},
   "outputs": [],
   "source": [
    "def return_prompt_and_responses(samples):\n",
    "    output = {\n",
    "        \"prompt\": [\"Question: \" + question + \"\\n\\nAnswer: \" for question in samples[\"question\"]],\n",
    "        \"chosen\": samples[\"response_j\"],\n",
    "        \"rejected\": samples[\"response_k\"]\n",
    "    }\n",
    "\n",
    "    return output"
   ]
  },
  {
   "cell_type": "code",
   "execution_count": 8,
   "id": "6827e17d-90d7-4e6b-9311-71303d6c2b49",
   "metadata": {},
   "outputs": [
    {
     "data": {
      "text/plain": [
       "['qid', 'question', 'date', 'metadata', 'response_j', 'response_k']"
      ]
     },
     "execution_count": 8,
     "metadata": {},
     "output_type": "execute_result"
    }
   ],
   "source": [
    "original_columns = train_ds_sample.column_names\n",
    "original_columns"
   ]
  },
  {
   "cell_type": "code",
   "execution_count": 9,
   "id": "403dc6fc-0d73-4899-945e-ed5bcbf26cc3",
   "metadata": {},
   "outputs": [
    {
     "data": {
      "application/vnd.jupyter.widget-view+json": {
       "model_id": "de438343418c4d71811fdc725ac09644",
       "version_major": 2,
       "version_minor": 0
      },
      "text/plain": [
       "Map:   0%|          | 0/100 [00:00<?, ? examples/s]"
      ]
     },
     "metadata": {},
     "output_type": "display_data"
    },
    {
     "data": {
      "application/vnd.jupyter.widget-view+json": {
       "model_id": "f4820c8747994b2c85e60d913075be29",
       "version_major": 2,
       "version_minor": 0
      },
      "text/plain": [
       "Map:   0%|          | 0/100 [00:00<?, ? examples/s]"
      ]
     },
     "metadata": {},
     "output_type": "display_data"
    }
   ],
   "source": [
    "train_ds_sample_prepared = train_ds_sample.map(\n",
    "    return_prompt_and_responses,\n",
    "    batched=True,\n",
    "    # batch_size=1000,\n",
    "    remove_columns=original_columns\n",
    ")\n",
    "\n",
    "test_ds_sample_prepared = test_ds_sample.map(\n",
    "    return_prompt_and_responses,\n",
    "    batched=True,\n",
    "    # batch_size=1000,\n",
    "    remove_columns=original_columns\n",
    ")"
   ]
  },
  {
   "cell_type": "code",
   "execution_count": 10,
   "id": "eeb6194c-b5ca-480e-823f-f845ebf3d429",
   "metadata": {
    "scrolled": true
   },
   "outputs": [
    {
     "data": {
      "text/plain": [
       "Dataset({\n",
       "    features: ['prompt', 'chosen', 'rejected'],\n",
       "    num_rows: 100\n",
       "})"
      ]
     },
     "execution_count": 10,
     "metadata": {},
     "output_type": "execute_result"
    }
   ],
   "source": [
    "train_ds_sample_prepared"
   ]
  },
  {
   "cell_type": "markdown",
   "id": "7f5f6d25-e26a-43a6-a652-87715d6cbacc",
   "metadata": {},
   "source": [
    "### Supervised Fine-tuning step"
   ]
  },
  {
   "cell_type": "code",
   "execution_count": null,
   "id": "31d4c29d-521a-476f-b56e-13a1536b976d",
   "metadata": {},
   "outputs": [],
   "source": [
    "script_args = config_dict.ConfigDict()\n",
    "script_args.model_name = \"meta-llama/Llama-2-7b-hf\"\n",
    "script_args.lora_r = 8\n",
    "script_args.lora_alpha = 16\n",
    "script_args.lora_dropout = 0.05"
   ]
  },
  {
   "cell_type": "code",
   "execution_count": null,
   "id": "39ef620f-8450-4f8d-a194-99749c30e983",
   "metadata": {},
   "outputs": [],
   "source": [
    "def formatting_func(example):\n",
    "    text = example[\"prompt\"] + example[\"chosen\"]\n",
    "    return text\n",
    "\n",
    "# print(formatting_func(train_ds_sample_prepared[1]))"
   ]
  },
  {
   "cell_type": "code",
   "execution_count": null,
   "id": "6ac6096f-75ed-42a4-9269-68cb691b4db1",
   "metadata": {},
   "outputs": [],
   "source": [
    "bnb_config = BitsAndBytesConfig(\n",
    "    load_in_4bit=True,\n",
    "    bnb_4bit_quant_type=\"nf4\",\n",
    "    bnb_4bit_use_double_quant=True,\n",
    "    bnb_4bit_compute_dtype=torch.bfloat16\n",
    ")\n",
    "\n",
    "model_kwargs = dict(\n",
    "    device_map={\"\": 0},\n",
    "    trust_remote_code=True,\n",
    "    torch_dtype=torch.float16,\n",
    "    attn_implementation=\"flash_attention_2\",\n",
    "    use_cache=False,\n",
    "    quantization_config=bnb_config,\n",
    "    # token=True\n",
    ")\n",
    "\n",
    "base_model = AutoModelForCausalLM.from_pretrained(script_args.model_name, **model_kwargs)\n",
    "\n",
    "# base_model = AutoModelForCausalLM.from_pretrained(\n",
    "#     script_args.model_name,\n",
    "#     quantization_config=bnb_config,\n",
    "#     device_map={\"\": 0},\n",
    "#     trust_remote_code=True,\n",
    "#     token=True\n",
    "# )\n",
    "\n",
    "# base_model.config.use_cache = False\n",
    "\n",
    "tokenizer = AutoTokenizer.from_pretrained(script_args.model_name, trust_remote_code=True)\n",
    "tokenizer.pad_token = tokenizer.eos_token\n",
    "tokenizer.padding_size = \"right\"\n",
    "\n",
    "peft_config = LoraConfig(\n",
    "    r=script_args.lora_r,\n",
    "    lora_alpha=script_args.lora_alpha,\n",
    "    lora_dropout=script_args.lora_dropout,\n",
    "    target_modules=[\"q_proj\", \"v_proj\"],\n",
    "    bias=\"none\",\n",
    "    task_type=\"CAUSAL_LM\"\n",
    ")\n",
    "\n",
    "training_args = TrainingArguments(\n",
    "    output_dir=\"./sft\",\n",
    "    # max_steps=500,\n",
    "    num_train_epochs=1,\n",
    "    logging_steps=10,\n",
    "    save_steps=10,\n",
    "    per_device_train_batch_size=1,\n",
    "    per_device_eval_batch_size=1,\n",
    "    gradient_accumulation_steps=2,\n",
    "    gradient_checkpointing=False,\n",
    "    group_by_length=False,\n",
    "    learning_rate=1e-4,\n",
    "    lr_scheduler_type=\"cosine\",\n",
    "    warmup_steps=100,\n",
    "    weight_decay=0.05,\n",
    "    optim=\"paged_adamw_32bit\",\n",
    "    bf16=True,\n",
    "    remove_unused_columns=False,\n",
    "    run_name=\"sft_llama2\",\n",
    "    report_to=\"wandb\"\n",
    ")\n",
    "    \n",
    "trainer = SFTTrainer(\n",
    "    model=base_model,\n",
    "    train_dataset=train_ds_sample_prepared,\n",
    "    eval_dataset=test_ds_sample_prepared,\n",
    "    peft_config=peft_config,\n",
    "    packing=True,\n",
    "    max_seq_length=None,\n",
    "    tokenizer=tokenizer,\n",
    "    args=training_args,\n",
    "    formatting_func=formatting_func\n",
    ")"
   ]
  },
  {
   "cell_type": "code",
   "execution_count": null,
   "id": "34fe04b9-0ea5-446b-8b04-edfb63159614",
   "metadata": {},
   "outputs": [],
   "source": [
    "trainer.train()"
   ]
  },
  {
   "cell_type": "markdown",
   "id": "59af75e3-f56a-4ae9-baed-5dfe3cb12344",
   "metadata": {},
   "source": [
    "### DPO step"
   ]
  },
  {
   "cell_type": "code",
   "execution_count": 50,
   "id": "1447e91b-b27e-4904-b712-e2a91c1f3404",
   "metadata": {},
   "outputs": [],
   "source": [
    "import torch\n",
    "from transformers import GenerationConfig\n",
    "from transformers.integrations import WandbCallback\n",
    "import wandb\n",
    "\n",
    "\n",
    "class LLMSampleCB(WandbCallback):\n",
    "    def __init__(self, trainer, test_dataset, num_samples=10, max_new_tokens=256, log_model=\"checkpoint\"):\n",
    "        super().__init__()\n",
    "        self._log_model = log_model\n",
    "        self.sample_dataset = test_dataset.select(range(num_samples))\n",
    "        self.model, self.tokenizer = trainer.model, trainer.tokenizer\n",
    "        self.gen_config = GenerationConfig.from_pretrained(trainer.model.name_or_path, max_new_tokens=max_new_tokens)\n",
    "        \n",
    "    def generate(self, prompt):\n",
    "        # tokenized_prompt = self.tokenizer(prompt, return_tensors='pt')['input_ids'].cuda()\n",
    "        tokenized_prompt = self.tokenizer(prompt, return_tensors='pt')\n",
    "        tokenized_prompt = {k: v.to(\"cuda\") for k, v in tokenized_prompt.items()}\n",
    "\n",
    "        with torch.inference_mode():\n",
    "            output = self.model.generate(**tokenized_prompt, generation_config=self.gen_config, pad_token_id=self.tokenizer.eos_token_id)\n",
    "            \n",
    "        return self.tokenizer.decode(output[0][len(tokenized_prompt[\"input_ids\"][0]):], skip_special_tokens=True)\n",
    "    \n",
    "    def samples_table(self, examples):\n",
    "        records_table = wandb.Table(columns=[\"prompt\", \"generation\"] + list(self.gen_config.to_dict().keys()))\n",
    "        for example in tqdm(examples, leave=False):\n",
    "            prompt = example[\"prompt\"]\n",
    "            generation = self.generate(prompt=prompt)\n",
    "            records_table.add_data(prompt, generation, *list(self.gen_config.to_dict().values()))\n",
    "        return records_table\n",
    "        \n",
    "    def on_evaluate(self, args, state, control,  **kwargs):\n",
    "        super().on_evaluate(args, state, control, **kwargs)\n",
    "        records_table = self.samples_table(self.sample_dataset)\n",
    "        self._wandb.log({\"sample_predictions\":records_table})"
   ]
  },
  {
   "cell_type": "code",
   "execution_count": 79,
   "id": "96d6ea2b-6053-426e-9ce3-01f6d922f710",
   "metadata": {},
   "outputs": [
    {
     "data": {
      "application/vnd.jupyter.widget-view+json": {
       "model_id": "a60d052b9dea4dd59b940288ecbd43b1",
       "version_major": 2,
       "version_minor": 0
      },
      "text/plain": [
       "Loading checkpoint shards:   0%|          | 0/2 [00:00<?, ?it/s]"
      ]
     },
     "metadata": {},
     "output_type": "display_data"
    },
    {
     "data": {
      "application/vnd.jupyter.widget-view+json": {
       "model_id": "1c14c63abf474650a36234b29819bd8e",
       "version_major": 2,
       "version_minor": 0
      },
      "text/plain": [
       "Loading checkpoint shards:   0%|          | 0/2 [00:00<?, ?it/s]"
      ]
     },
     "metadata": {},
     "output_type": "display_data"
    },
    {
     "name": "stderr",
     "output_type": "stream",
     "text": [
      "/usr/local/lib/python3.10/dist-packages/peft/tuners/lora/bnb.py:249: UserWarning: Merge lora module to 4-bit linear may get different generations due to rounding errors.\n",
      "  warnings.warn(\n"
     ]
    },
    {
     "data": {
      "application/vnd.jupyter.widget-view+json": {
       "model_id": "4b5660b6c52c4805ae39edff2e54d635",
       "version_major": 2,
       "version_minor": 0
      },
      "text/plain": [
       "Map:   0%|          | 0/100 [00:00<?, ? examples/s]"
      ]
     },
     "metadata": {},
     "output_type": "display_data"
    },
    {
     "data": {
      "application/vnd.jupyter.widget-view+json": {
       "model_id": "37c56e6e49c64c489b356efd37c50ca5",
       "version_major": 2,
       "version_minor": 0
      },
      "text/plain": [
       "Map:   0%|          | 0/100 [00:00<?, ? examples/s]"
      ]
     },
     "metadata": {},
     "output_type": "display_data"
    },
    {
     "name": "stderr",
     "output_type": "stream",
     "text": [
      "Detected kernel version 5.4.0, which is below the recommended minimum of 5.5.0; this can cause the process to hang. It is recommended to upgrade the kernel to the minimum version or higher.\n"
     ]
    }
   ],
   "source": [
    "model_path = \"./sft/checkpoint-290/\"\n",
    "gradient_checkpointing = True\n",
    "\n",
    "model = AutoPeftModelForCausalLM.from_pretrained(\n",
    "    model_path,\n",
    "    low_cpu_mem_usage=True,\n",
    "    torch_dtype=torch.float16,\n",
    "    load_in_4bit=True,\n",
    "    is_trainable=True,\n",
    "    attn_implementation=\"flash_attention_2\",\n",
    "    use_cache=False if gradient_checkpointing else True,\n",
    ")\n",
    "\n",
    "model_ref = AutoPeftModelForCausalLM.from_pretrained(\n",
    "    model_path,\n",
    "    low_cpu_mem_usage=True,\n",
    "    torch_dtype=torch.float16,\n",
    "    load_in_4bit=True,\n",
    "    attn_implementation=\"flash_attention_2\",\n",
    "    use_cache=False if gradient_checkpointing else True,\n",
    ")\n",
    "\n",
    "tokenizer = AutoTokenizer.from_pretrained(model_path, trust_remote_code=True)\n",
    "tokenizer.pad_token = tokenizer.eos_token\n",
    "tokenizer.padding_size = \"right\"\n",
    "\n",
    "training_args_dpo = TrainingArguments(\n",
    "    per_device_train_batch_size=1,\n",
    "    per_device_eval_batch_size=1,\n",
    "    num_train_epochs=1,\n",
    "    # max_steps=3,\n",
    "    logging_steps=10,\n",
    "    save_steps=100,\n",
    "    gradient_accumulation_steps=16,\n",
    "    gradient_checkpointing=False,\n",
    "    learning_rate=5e-4,\n",
    "    evaluation_strategy=\"epoch\",\n",
    "    # evaluation_strategy=\"steps\",\n",
    "    # eval_steps=100,\n",
    "    output_dir=\"./results\",\n",
    "    report_to=\"wandb\",\n",
    "    lr_scheduler_type=\"cosine\",\n",
    "    warmup_steps=100,\n",
    "    optim=\"paged_adamw_32bit\",\n",
    "    bf16=True,\n",
    "    remove_unused_columns=False,\n",
    "    # run_name=\"dpo_llama2\",\n",
    ")\n",
    "\n",
    "peft_config = LoraConfig(\n",
    "    r=8,\n",
    "    lora_alpha=16,\n",
    "    lora_dropout=0.05,\n",
    "    target_modules=[\"q_proj\", \"v_proj\", \"k_proj\", \"out_proj\", \"fc_in\", \"fc_out\", \"wte\"],\n",
    "    bias=\"none\",\n",
    "    task_type=\"CAUSAL_LM\"\n",
    ")\n",
    "\n",
    "dpo_trainer = DPOTrainer(\n",
    "    model,\n",
    "    model_ref,\n",
    "    tokenizer=tokenizer,\n",
    "    args=training_args_dpo,\n",
    "    peft_config=peft_config,\n",
    "    train_dataset=train_ds_sample_prepared,\n",
    "    eval_dataset=test_ds_sample_prepared,\n",
    "    beta=0.1,\n",
    "    max_prompt_length=512,\n",
    "    max_length=1024\n",
    ")\n",
    "\n",
    "\n",
    "# num_samples = 10\n",
    "# wandb_cb = LLMSampleCB(dpo_trainer, test_ds_sample_prepared, num_samples=num_samples, max_new_tokens=512)\n",
    "# dpo_trainer.add_callback(wandb_cb)"
   ]
  },
  {
   "cell_type": "code",
   "execution_count": 80,
   "id": "e1db6444-7953-4f88-9471-bc2f1496f666",
   "metadata": {},
   "outputs": [
    {
     "name": "stderr",
     "output_type": "stream",
     "text": [
      "Could not estimate the number of tokens of the input, floating-point operations will not be computed\n"
     ]
    },
    {
     "data": {
      "text/html": [
       "\n",
       "    <div>\n",
       "      \n",
       "      <progress value='6' max='6' style='width:300px; height:20px; vertical-align: middle;'></progress>\n",
       "      [6/6 02:42, Epoch 0/1]\n",
       "    </div>\n",
       "    <table border=\"1\" class=\"dataframe\">\n",
       "  <thead>\n",
       " <tr style=\"text-align: left;\">\n",
       "      <th>Epoch</th>\n",
       "      <th>Training Loss</th>\n",
       "      <th>Validation Loss</th>\n",
       "      <th>Rewards/chosen</th>\n",
       "      <th>Rewards/rejected</th>\n",
       "      <th>Rewards/accuracies</th>\n",
       "      <th>Rewards/margins</th>\n",
       "      <th>Logps/rejected</th>\n",
       "      <th>Logps/chosen</th>\n",
       "      <th>Logits/rejected</th>\n",
       "      <th>Logits/chosen</th>\n",
       "    </tr>\n",
       "  </thead>\n",
       "  <tbody>\n",
       "    <tr>\n",
       "      <td>0</td>\n",
       "      <td>No log</td>\n",
       "      <td>1.296792</td>\n",
       "      <td>-1.559337</td>\n",
       "      <td>-0.804300</td>\n",
       "      <td>0.280000</td>\n",
       "      <td>-0.755037</td>\n",
       "      <td>-261.201080</td>\n",
       "      <td>-429.136627</td>\n",
       "      <td>-0.520507</td>\n",
       "      <td>-0.310032</td>\n",
       "    </tr>\n",
       "  </tbody>\n",
       "</table><p>"
      ],
      "text/plain": [
       "<IPython.core.display.HTML object>"
      ]
     },
     "metadata": {},
     "output_type": "display_data"
    },
    {
     "data": {
      "application/vnd.jupyter.widget-view+json": {
       "model_id": "",
       "version_major": 2,
       "version_minor": 0
      },
      "text/plain": [
       "VBox(children=(Label(value='0.035 MB of 0.048 MB uploaded (0.003 MB deduped)\\r'), FloatProgress(value=0.719719…"
      ]
     },
     "metadata": {},
     "output_type": "display_data"
    },
    {
     "data": {
      "text/html": [
       "W&B sync reduced upload amount by 6.3%             "
      ],
      "text/plain": [
       "<IPython.core.display.HTML object>"
      ]
     },
     "metadata": {},
     "output_type": "display_data"
    },
    {
     "data": {
      "text/html": [
       "<style>\n",
       "    table.wandb td:nth-child(1) { padding: 0 10px; text-align: left ; width: auto;} td:nth-child(2) {text-align: left ; width: 100%}\n",
       "    .wandb-row { display: flex; flex-direction: row; flex-wrap: wrap; justify-content: flex-start; width: 100% }\n",
       "    .wandb-col { display: flex; flex-direction: column; flex-basis: 100%; flex: 1; padding: 10px; }\n",
       "    </style>\n",
       "<div class=\"wandb-row\"><div class=\"wandb-col\"><h3>Run history:</h3><br/><table class=\"wandb\"><tr><td>eval/logits/chosen</td><td>▅▅▆▆▂▂▁▁█</td></tr><tr><td>eval/logits/rejected</td><td>▆▆██▂▂▁▁▆</td></tr><tr><td>eval/logps/chosen</td><td>▂▂▁▁▃▃▁▁█</td></tr><tr><td>eval/logps/rejected</td><td>▃▃██▃▃▃▃▁</td></tr><tr><td>eval/loss</td><td>▃▃██▄▄▅▅▁</td></tr><tr><td>eval/rewards/accuracies</td><td>██████▁▁▅</td></tr><tr><td>eval/rewards/chosen</td><td>▂▂▁▁▃▃▁▁█</td></tr><tr><td>eval/rewards/margins</td><td>▄▄▁▁▄▄▃▃█</td></tr><tr><td>eval/rewards/rejected</td><td>▃▃██▃▃▃▃▁</td></tr><tr><td>eval/runtime</td><td>▄▄▅▅██▁▁▄</td></tr><tr><td>eval/samples_per_second</td><td>▆▆▆▆▁▁██▆</td></tr><tr><td>eval/steps_per_second</td><td>▆▆▆▆▁▁██▆</td></tr><tr><td>train/epoch</td><td>▁▁▁▁▁▁▁▁▁▁</td></tr><tr><td>train/global_step</td><td>▁▁▁▁▁▁▁▁▁▁</td></tr><tr><td>train/total_flos</td><td>▁</td></tr><tr><td>train/train_loss</td><td>▁</td></tr><tr><td>train/train_runtime</td><td>▁</td></tr><tr><td>train/train_samples_per_second</td><td>▁</td></tr><tr><td>train/train_steps_per_second</td><td>▁</td></tr></table><br/></div><div class=\"wandb-col\"><h3>Run summary:</h3><br/><table class=\"wandb\"><tr><td>eval/logits/chosen</td><td>-0.31003</td></tr><tr><td>eval/logits/rejected</td><td>-0.52051</td></tr><tr><td>eval/logps/chosen</td><td>-429.13663</td></tr><tr><td>eval/logps/rejected</td><td>-261.20108</td></tr><tr><td>eval/loss</td><td>1.29679</td></tr><tr><td>eval/rewards/accuracies</td><td>0.28</td></tr><tr><td>eval/rewards/chosen</td><td>-1.55934</td></tr><tr><td>eval/rewards/margins</td><td>-0.75504</td></tr><tr><td>eval/rewards/rejected</td><td>-0.8043</td></tr><tr><td>eval/runtime</td><td>74.9112</td></tr><tr><td>eval/samples_per_second</td><td>1.335</td></tr><tr><td>eval/steps_per_second</td><td>1.335</td></tr><tr><td>train/epoch</td><td>0.96</td></tr><tr><td>train/global_step</td><td>6</td></tr><tr><td>train/total_flos</td><td>0.0</td></tr><tr><td>train/train_loss</td><td>1.29229</td></tr><tr><td>train/train_runtime</td><td>180.8273</td></tr><tr><td>train/train_samples_per_second</td><td>0.553</td></tr><tr><td>train/train_steps_per_second</td><td>0.033</td></tr></table><br/></div></div>"
      ],
      "text/plain": [
       "<IPython.core.display.HTML object>"
      ]
     },
     "metadata": {},
     "output_type": "display_data"
    },
    {
     "data": {
      "text/html": [
       " View run <strong style=\"color:#cdcd00\">enamored-ring-3</strong> at: <a href='https://wandb.ai/matt24/dpo_llama2_finetuning/runs/kxskvedu' target=\"_blank\">https://wandb.ai/matt24/dpo_llama2_finetuning/runs/kxskvedu</a><br/> View job at <a href='https://wandb.ai/matt24/dpo_llama2_finetuning/jobs/QXJ0aWZhY3RDb2xsZWN0aW9uOjEzOTk2MDg2NQ==/version_details/v1' target=\"_blank\">https://wandb.ai/matt24/dpo_llama2_finetuning/jobs/QXJ0aWZhY3RDb2xsZWN0aW9uOjEzOTk2MDg2NQ==/version_details/v1</a><br/>Synced 5 W&B file(s), 0 media file(s), 2 artifact file(s) and 0 other file(s)"
      ],
      "text/plain": [
       "<IPython.core.display.HTML object>"
      ]
     },
     "metadata": {},
     "output_type": "display_data"
    },
    {
     "data": {
      "text/html": [
       "Find logs at: <code>./wandb/run-20240215_145606-kxskvedu/logs</code>"
      ],
      "text/plain": [
       "<IPython.core.display.HTML object>"
      ]
     },
     "metadata": {},
     "output_type": "display_data"
    }
   ],
   "source": [
    "dpo_trainer.train()\n",
    "wandb.finish()"
   ]
  },
  {
   "cell_type": "code",
   "execution_count": 81,
   "id": "6f37335e-aaf3-40fc-aabe-d8c1d70b70a3",
   "metadata": {},
   "outputs": [
    {
     "data": {
      "text/plain": [
       "Dataset({\n",
       "    features: ['prompt', 'chosen', 'rejected'],\n",
       "    num_rows: 10\n",
       "})"
      ]
     },
     "execution_count": 81,
     "metadata": {},
     "output_type": "execute_result"
    }
   ],
   "source": [
    "sample_dataset = test_ds_sample_prepared.select(range(num_samples))\n",
    "sample_dataset"
   ]
  },
  {
   "cell_type": "code",
   "execution_count": 86,
   "id": "d0462b58-530b-4462-8684-5ef8db389784",
   "metadata": {},
   "outputs": [],
   "source": [
    "model_t, tokenizer_t = dpo_trainer.model, dpo_trainer.tokenizer\n",
    "tokenizer_t.pad_token = tokenizer_t.eos_token\n",
    "tokenizer_t.padding_size = \"right\"\n",
    "gen_config_t = GenerationConfig.from_pretrained(dpo_trainer.model.name_or_path, max_new_tokens=512)\n",
    "\n",
    "for p in sample_dataset:\n",
    "    prompt = p[\"prompt\"]"
   ]
  },
  {
   "cell_type": "code",
   "execution_count": 90,
   "id": "27de77bb-1185-494f-8a85-f4526738ac0b",
   "metadata": {},
   "outputs": [
    {
     "data": {
      "text/plain": [
       "PeftModelForCausalLM(\n",
       "  (base_model): LoraModel(\n",
       "    (model): LlamaForCausalLM(\n",
       "      (model): LlamaModel(\n",
       "        (embed_tokens): Embedding(32000, 4096)\n",
       "        (layers): ModuleList(\n",
       "          (0-31): 32 x LlamaDecoderLayer(\n",
       "            (self_attn): LlamaFlashAttention2(\n",
       "              (q_proj): lora.Linear4bit(\n",
       "                (base_layer): Linear4bit(in_features=4096, out_features=4096, bias=False)\n",
       "                (lora_dropout): ModuleDict(\n",
       "                  (default): Dropout(p=0, inplace=False)\n",
       "                )\n",
       "                (lora_A): ModuleDict(\n",
       "                  (default): Linear(in_features=4096, out_features=8, bias=False)\n",
       "                )\n",
       "                (lora_B): ModuleDict(\n",
       "                  (default): Linear(in_features=8, out_features=4096, bias=False)\n",
       "                )\n",
       "                (lora_embedding_A): ParameterDict()\n",
       "                (lora_embedding_B): ParameterDict()\n",
       "              )\n",
       "              (k_proj): lora.Linear4bit(\n",
       "                (base_layer): Linear4bit(in_features=4096, out_features=4096, bias=False)\n",
       "                (lora_dropout): ModuleDict(\n",
       "                  (default): Dropout(p=0, inplace=False)\n",
       "                )\n",
       "                (lora_A): ModuleDict(\n",
       "                  (default): Linear(in_features=4096, out_features=8, bias=False)\n",
       "                )\n",
       "                (lora_B): ModuleDict(\n",
       "                  (default): Linear(in_features=8, out_features=4096, bias=False)\n",
       "                )\n",
       "                (lora_embedding_A): ParameterDict()\n",
       "                (lora_embedding_B): ParameterDict()\n",
       "              )\n",
       "              (v_proj): lora.Linear4bit(\n",
       "                (base_layer): Linear4bit(in_features=4096, out_features=4096, bias=False)\n",
       "                (lora_dropout): ModuleDict(\n",
       "                  (default): Dropout(p=0, inplace=False)\n",
       "                )\n",
       "                (lora_A): ModuleDict(\n",
       "                  (default): Linear(in_features=4096, out_features=8, bias=False)\n",
       "                )\n",
       "                (lora_B): ModuleDict(\n",
       "                  (default): Linear(in_features=8, out_features=4096, bias=False)\n",
       "                )\n",
       "                (lora_embedding_A): ParameterDict()\n",
       "                (lora_embedding_B): ParameterDict()\n",
       "              )\n",
       "              (o_proj): Linear4bit(in_features=4096, out_features=4096, bias=False)\n",
       "              (rotary_emb): LlamaRotaryEmbedding()\n",
       "            )\n",
       "            (mlp): LlamaMLP(\n",
       "              (gate_proj): Linear4bit(in_features=4096, out_features=11008, bias=False)\n",
       "              (up_proj): Linear4bit(in_features=4096, out_features=11008, bias=False)\n",
       "              (down_proj): Linear4bit(in_features=11008, out_features=4096, bias=False)\n",
       "              (act_fn): SiLU()\n",
       "            )\n",
       "            (input_layernorm): LlamaRMSNorm()\n",
       "            (post_attention_layernorm): LlamaRMSNorm()\n",
       "          )\n",
       "        )\n",
       "        (norm): LlamaRMSNorm()\n",
       "      )\n",
       "      (lm_head): Linear(in_features=4096, out_features=32000, bias=False)\n",
       "    )\n",
       "  )\n",
       ")"
      ]
     },
     "execution_count": 90,
     "metadata": {},
     "output_type": "execute_result"
    }
   ],
   "source": [
    "dpo_trainer.model"
   ]
  },
  {
   "cell_type": "code",
   "execution_count": 97,
   "id": "3e7c5a94-6ef7-48c7-a826-68cd9572691a",
   "metadata": {},
   "outputs": [
    {
     "data": {
      "application/vnd.jupyter.widget-view+json": {
       "model_id": "306625818e3a47838240a360e0941374",
       "version_major": 2,
       "version_minor": 0
      },
      "text/plain": [
       "Loading checkpoint shards:   0%|          | 0/2 [00:00<?, ?it/s]"
      ]
     },
     "metadata": {},
     "output_type": "display_data"
    },
    {
     "data": {
      "text/plain": [
       "LlamaForCausalLM(\n",
       "  (model): LlamaModel(\n",
       "    (embed_tokens): Embedding(32000, 4096)\n",
       "    (layers): ModuleList(\n",
       "      (0-31): 32 x LlamaDecoderLayer(\n",
       "        (self_attn): LlamaAttention(\n",
       "          (q_proj): Linear(in_features=4096, out_features=4096, bias=False)\n",
       "          (k_proj): Linear(in_features=4096, out_features=4096, bias=False)\n",
       "          (v_proj): Linear(in_features=4096, out_features=4096, bias=False)\n",
       "          (o_proj): Linear(in_features=4096, out_features=4096, bias=False)\n",
       "          (rotary_emb): LlamaRotaryEmbedding()\n",
       "        )\n",
       "        (mlp): LlamaMLP(\n",
       "          (gate_proj): Linear(in_features=4096, out_features=11008, bias=False)\n",
       "          (up_proj): Linear(in_features=4096, out_features=11008, bias=False)\n",
       "          (down_proj): Linear(in_features=11008, out_features=4096, bias=False)\n",
       "          (act_fn): SiLU()\n",
       "        )\n",
       "        (input_layernorm): LlamaRMSNorm()\n",
       "        (post_attention_layernorm): LlamaRMSNorm()\n",
       "      )\n",
       "    )\n",
       "    (norm): LlamaRMSNorm()\n",
       "  )\n",
       "  (lm_head): Linear(in_features=4096, out_features=32000, bias=False)\n",
       ")"
      ]
     },
     "execution_count": 97,
     "metadata": {},
     "output_type": "execute_result"
    }
   ],
   "source": [
    "base_model = AutoModelForCausalLM.from_pretrained(\"meta-llama/Llama-2-7b-hf\")\n",
    "base_model.to(\"cuda\")"
   ]
  },
  {
   "cell_type": "code",
   "execution_count": null,
   "id": "ef720ac8-86b7-4930-abfe-b8bfe927c2da",
   "metadata": {},
   "outputs": [],
   "source": [
    "tokenized_prompt = tokenizer_t(prompt, return_tensors=\"pt\")\n",
    "tokenized_prompt = {k: v.to(\"cuda\") for k, v in tokenized_prompt.items()}\n",
    "\n",
    "with torch.inference_mode():\n",
    "    output = base_model.generate(**tokenized_prompt)\n",
    "    \n",
    "# return self.tokenizer.decode(output[0][len(tokenized_prompt[\"input_ids\"][0]):], skip_special_tokens=True)"
   ]
  },
  {
   "cell_type": "code",
   "execution_count": null,
   "id": "edcbd28c-f1e8-48d1-a968-ea977438d995",
   "metadata": {},
   "outputs": [],
   "source": []
  },
  {
   "cell_type": "code",
   "execution_count": null,
   "id": "d3c2a240-3bb3-4d90-aa0d-add814ba9ed6",
   "metadata": {},
   "outputs": [],
   "source": []
  }
 ],
 "metadata": {
  "kernelspec": {
   "display_name": "Python 3 (ipykernel)",
   "language": "python",
   "name": "python3"
  },
  "language_info": {
   "codemirror_mode": {
    "name": "ipython",
    "version": 3
   },
   "file_extension": ".py",
   "mimetype": "text/x-python",
   "name": "python",
   "nbconvert_exporter": "python",
   "pygments_lexer": "ipython3",
   "version": "3.10.12"
  }
 },
 "nbformat": 4,
 "nbformat_minor": 5
}
